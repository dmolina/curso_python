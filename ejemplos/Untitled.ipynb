{
 "cells": [
  {
   "cell_type": "code",
   "execution_count": 2,
   "metadata": {},
   "outputs": [
    {
     "name": "stdout",
     "output_type": "stream",
     "text": [
      "3\n"
     ]
    }
   ],
   "source": [
    "a = [1, 2, 3, 4]\n",
    "print(a[2])"
   ]
  },
  {
   "cell_type": "code",
   "execution_count": 3,
   "metadata": {},
   "outputs": [
    {
     "name": "stdout",
     "output_type": "stream",
     "text": [
      "{'hola': 5, 'adios': 25}\n"
     ]
    }
   ],
   "source": [
    "a = {'hola': 5, 'adios': 25}\n",
    "print(a)"
   ]
  },
  {
   "cell_type": "code",
   "execution_count": 4,
   "metadata": {},
   "outputs": [
    {
     "data": {
      "text/plain": [
       "5"
      ]
     },
     "execution_count": 4,
     "metadata": {},
     "output_type": "execute_result"
    }
   ],
   "source": [
    "a['hola']"
   ]
  },
  {
   "cell_type": "code",
   "execution_count": 18,
   "metadata": {},
   "outputs": [
    {
     "name": "stdout",
     "output_type": "stream",
     "text": [
      "py : 3\n",
      "ipynb : 3\n",
      "xls# : 1\n"
     ]
    }
   ],
   "source": [
    "from collections import defaultdict\n",
    "import pathlib\n",
    "\n",
    "count = defaultdict(int)\n",
    "\n",
    "dir = pathlib.Path(\".\")\n",
    "\n",
    "for file in dir.glob(\"*\"):\n",
    "    if file.is_file():\n",
    "        ext = file.suffix[1:]\n",
    "        count[ext] += 1\n",
    "    \n",
    "for key, value in count.items():\n",
    "    print(key, \":\",  value)"
   ]
  }
 ],
 "metadata": {
  "kernelspec": {
   "display_name": "Python 3",
   "language": "python",
   "name": "python3"
  },
  "language_info": {
   "codemirror_mode": {
    "name": "ipython",
    "version": 3
   },
   "file_extension": ".py",
   "mimetype": "text/x-python",
   "name": "python",
   "nbconvert_exporter": "python",
   "pygments_lexer": "ipython3",
   "version": "3.6.1"
  }
 },
 "nbformat": 4,
 "nbformat_minor": 2
}
