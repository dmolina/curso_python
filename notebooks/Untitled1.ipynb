{
 "cells": [
  {
   "cell_type": "markdown",
   "metadata": {},
   "source": [
    "# Juego del ahorcado"
   ]
  },
  {
   "cell_type": "code",
   "execution_count": 5,
   "metadata": {},
   "outputs": [
    {
     "name": "stdout",
     "output_type": "stream",
     "text": [
      "Introduzca la palabra secreta:\n",
      "payaso\n",
      "Número de intentos: 5\n",
      "______\n",
      "b\n",
      "Número de intentos: 4\n",
      "______\n",
      "a\n",
      "Número de intentos: 4\n",
      "_a_a__\n",
      "payaso\n",
      "Has ganado, lástima que no te jugases nada\n"
     ]
    }
   ],
   "source": [
    "print(\"Introduzca la palabra secreta:\")\n",
    "palabra_secreta = input()\n",
    "\n",
    "while len(palabra_secreta)== 0:\n",
    "    palabra_secreta = input()\n",
    "    \n",
    "plantilla = [\"_\"]*len(palabra_secreta)\n",
    "numero_intentos = 5\n",
    "\n",
    "while \"_\" in plantilla and numero_intentos > 0:\n",
    "    print(\"Número de intentos:\", numero_intentos)\n",
    "    print(\"\".join(plantilla))\n",
    "    letra = input()\n",
    "\n",
    "    if letra == palabra_secreta:\n",
    "        plantilla = palabra_secreta\n",
    "    elif letra not in palabra_secreta:\n",
    "        numero_intentos -= 1\n",
    "    else:\n",
    "        for i, car in enumerate(palabra_secreta):\n",
    "            if  car == letra:\n",
    "                plantilla[i] = letra\n",
    "\n",
    "if numero_intentos == 0:\n",
    "    print(\"Has  fallado, tienes suerte que no te ahorque,  la palabra era \", \n",
    "          palabra_secreta)\n",
    "else:\n",
    "    print(\"Has ganado, lástima que no te jugases nada\")\n"
   ]
  },
  {
   "cell_type": "code",
   "execution_count": 22,
   "metadata": {},
   "outputs": [
    {
     "name": "stdout",
     "output_type": "stream",
     "text": [
      "-6 -4\n"
     ]
    }
   ],
   "source": [
    "def mymaxmin(valor1: float,  valor2: float) -> float:\n",
    "    if valor1 >= valor2:\n",
    "        return valor1, valor2\n",
    "    else:\n",
    "        return valor2, valor1\n",
    "    \n",
    "max, min = mymaxmin(-4, -6)\n",
    "print(min, max)\n",
    "    "
   ]
  },
  {
   "cell_type": "code",
   "execution_count": 32,
   "metadata": {},
   "outputs": [
    {
     "name": "stdout",
     "output_type": "stream",
     "text": [
      "dato1 "
     ]
    },
    {
     "name": "stderr",
     "output_type": "stream",
     "text": [
      "datoA1,datosA2\n"
     ]
    }
   ],
   "source": [
    "print(\"dato1\", end=' ')\n",
    "import sys\n",
    "print(\"datoA1\", \"datosA2\", sep=',', file=sys.stderr)"
   ]
  },
  {
   "cell_type": "code",
   "execution_count": null,
   "metadata": {
    "collapsed": true
   },
   "outputs": [],
   "source": []
  },
  {
   "cell_type": "code",
   "execution_count": null,
   "metadata": {
    "collapsed": true
   },
   "outputs": [],
   "source": []
  },
  {
   "cell_type": "code",
   "execution_count": null,
   "metadata": {
    "collapsed": true
   },
   "outputs": [],
   "source": []
  },
  {
   "cell_type": "code",
   "execution_count": null,
   "metadata": {
    "collapsed": true
   },
   "outputs": [],
   "source": []
  },
  {
   "cell_type": "code",
   "execution_count": null,
   "metadata": {
    "collapsed": true
   },
   "outputs": [],
   "source": []
  },
  {
   "cell_type": "code",
   "execution_count": null,
   "metadata": {
    "collapsed": true
   },
   "outputs": [],
   "source": [
    "import typing\n",
    "\n",
    "def suma(lista: typing.List[int])->int:\n",
    "    pass\n",
    "\n"
   ]
  },
  {
   "cell_type": "code",
   "execution_count": null,
   "metadata": {
    "collapsed": true
   },
   "outputs": [],
   "source": []
  }
 ],
 "metadata": {
  "kernelspec": {
   "display_name": "Python 3",
   "language": "python",
   "name": "python3"
  },
  "language_info": {
   "codemirror_mode": {
    "name": "ipython",
    "version": 3
   },
   "file_extension": ".py",
   "mimetype": "text/x-python",
   "name": "python",
   "nbconvert_exporter": "python",
   "pygments_lexer": "ipython3",
   "version": "3.6.1"
  }
 },
 "nbformat": 4,
 "nbformat_minor": 2
}
