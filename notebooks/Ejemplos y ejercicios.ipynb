{
 "cells": [
  {
   "cell_type": "markdown",
   "metadata": {},
   "source": [
    "# Ejemplos y Ejercicios del Curso de Python en Ceuta (Curso 2018)"
   ]
  },
  {
   "cell_type": "markdown",
   "metadata": {},
   "source": [
    "Este documento es un ejemplo de Notebook que permite a los/as alumnos/as ir probando de forma fácil algunos aspectos de sintaxis sin necesidad de usar un editor (aunque siempre es recomendable usar un editor para problemas más complejos)."
   ]
  },
  {
   "cell_type": "markdown",
   "metadata": {},
   "source": [
    "## Sobre este Notebook\n",
    "\n",
    "Este documento es directamente editable, para ello basta con pulsar sobre las celdas con [ ] (que son las que contienen código). Dicho ejemplo es directamente editable. \n",
    "\n",
    "\n",
    "El código de las celdas de código se evalúa con Control+Enter (y se va a la siguiente celda). Si quieres evaluarla y crear otra debajo puedes hacerlo con Alt+Enter.\n",
    "\n",
    "También se pueden crear nuevas celdas para probar nuevo código sin cambiar el existente. Es conveniente mirar la ayuda para ver las opciones (aunque lo comentaré durante el curso)."
   ]
  },
  {
   "cell_type": "markdown",
   "metadata": {},
   "source": [
    "# Primeros ejemplos de sintaxis\n",
    "\n",
    "En esta parte voy a poner ejemplos de sintaxis para que podáis ir probando y pensando si la salida era la que esperábais."
   ]
  },
  {
   "cell_type": "markdown",
   "metadata": {},
   "source": [
    "### Tipos de datos"
   ]
  },
  {
   "cell_type": "code",
   "execution_count": 3,
   "metadata": {},
   "outputs": [
    {
     "name": "stdout",
     "output_type": "stream",
     "text": [
      "Hola a todos\n"
     ]
    }
   ],
   "source": [
    "msg = \"Hola a todos\"\n",
    "print(msg)"
   ]
  },
  {
   "cell_type": "code",
   "execution_count": 5,
   "metadata": {},
   "outputs": [
    {
     "name": "stdout",
     "output_type": "stream",
     "text": [
      "Me alegra mucho ver tantas caras nuevas\n"
     ]
    }
   ],
   "source": [
    "msg: str = \"Me alegra mucho ver tantas caras nuevas\"\n",
    "print(msg)"
   ]
  },
  {
   "cell_type": "markdown",
   "metadata": {},
   "source": [
    "Duda, ¿podrías cambiar el tipo string por otro incorrecto? ¿Falla? Probadlo."
   ]
  },
  {
   "cell_type": "code",
   "execution_count": 6,
   "metadata": {
    "collapsed": true
   },
   "outputs": [],
   "source": [
    "number = 3\n",
    "number_real = 3.2\n",
    "msg = \"Hola\"\n",
    "lista = [1, 2, 3]\n",
    "datos = {'c': \"cerrar\", 'd': 'delete'}"
   ]
  },
  {
   "cell_type": "code",
   "execution_count": 7,
   "metadata": {},
   "outputs": [
    {
     "name": "stdout",
     "output_type": "stream",
     "text": [
      "[1, 2, 3]\n"
     ]
    }
   ],
   "source": [
    "print(lista)"
   ]
  },
  {
   "cell_type": "code",
   "execution_count": 8,
   "metadata": {},
   "outputs": [
    {
     "name": "stdout",
     "output_type": "stream",
     "text": [
      "2\n"
     ]
    }
   ],
   "source": [
    "print(lista[1])"
   ]
  },
  {
   "cell_type": "code",
   "execution_count": 9,
   "metadata": {},
   "outputs": [
    {
     "name": "stdout",
     "output_type": "stream",
     "text": [
      "3.2\n"
     ]
    }
   ],
   "source": [
    "print(number_real)"
   ]
  },
  {
   "cell_type": "code",
   "execution_count": 10,
   "metadata": {},
   "outputs": [
    {
     "name": "stdout",
     "output_type": "stream",
     "text": [
      "{'c': 'cerrar', 'd': 'delete'}\n"
     ]
    }
   ],
   "source": [
    "print(datos)"
   ]
  },
  {
   "cell_type": "code",
   "execution_count": 11,
   "metadata": {},
   "outputs": [
    {
     "name": "stdout",
     "output_type": "stream",
     "text": [
      "dict_keys(['c', 'd'])\n"
     ]
    }
   ],
   "source": [
    "print(datos.keys())"
   ]
  },
  {
   "cell_type": "code",
   "execution_count": 12,
   "metadata": {},
   "outputs": [
    {
     "name": "stdout",
     "output_type": "stream",
     "text": [
      "cerrar\n"
     ]
    }
   ],
   "source": [
    "print(datos['c'])"
   ]
  },
  {
   "cell_type": "code",
   "execution_count": 13,
   "metadata": {},
   "outputs": [
    {
     "name": "stdout",
     "output_type": "stream",
     "text": [
      "delete\n"
     ]
    }
   ],
   "source": [
    "print(datos['d'])"
   ]
  },
  {
   "cell_type": "code",
   "execution_count": 14,
   "metadata": {},
   "outputs": [
    {
     "name": "stdout",
     "output_type": "stream",
     "text": [
      "Suma: 11\n",
      "Producto: 18\n",
      "División: 4.5\n"
     ]
    }
   ],
   "source": [
    "a = 9\n",
    "b = 2\n",
    "print(\"Suma:\", a+b)\n",
    "print(\"Producto:\", a*b)\n",
    "print(\"División:\", a/b)"
   ]
  },
  {
   "cell_type": "markdown",
   "metadata": {},
   "source": [
    "¿Ver algo raro en los resultados? ¿Lo hace igual que C/C++ o diferente?"
   ]
  },
  {
   "cell_type": "code",
   "execution_count": 15,
   "metadata": {},
   "outputs": [
    {
     "name": "stdout",
     "output_type": "stream",
     "text": [
      "4\n"
     ]
    }
   ],
   "source": [
    "print(a//b)"
   ]
  },
  {
   "cell_type": "markdown",
   "metadata": {},
   "source": [
    "Ahora con cadenas:"
   ]
  },
  {
   "cell_type": "code",
   "execution_count": 16,
   "metadata": {},
   "outputs": [
    {
     "name": "stdout",
     "output_type": "stream",
     "text": [
      "7\n",
      "hola\n"
     ]
    }
   ],
   "source": [
    "a = 5\n",
    "print(a+2)\n",
    "a = \"hola\"\n",
    "print(a)"
   ]
  },
  {
   "cell_type": "markdown",
   "metadata": {},
   "source": [
    "Como se puede ver se puede cambiar dinámicamente no sólo el valor de la variable, si no también su tipo (aunque no es recomendable)"
   ]
  },
  {
   "cell_type": "code",
   "execution_count": 17,
   "metadata": {},
   "outputs": [
    {
     "name": "stdout",
     "output_type": "stream",
     "text": [
      "Eso es todo\n"
     ]
    }
   ],
   "source": [
    "msg = \"Eso\"\n",
    "msg_complete = msg +\" es todo\"\n",
    "print(msg_complete)"
   ]
  },
  {
   "cell_type": "code",
   "execution_count": 19,
   "metadata": {},
   "outputs": [
    {
     "ename": "TypeError",
     "evalue": "must be str, not int",
     "output_type": "error",
     "traceback": [
      "\u001b[0;31m---------------------------------------------------------------------------\u001b[0m",
      "\u001b[0;31mTypeError\u001b[0m                                 Traceback (most recent call last)",
      "\u001b[0;32m<ipython-input-19-b26f36e91e7a>\u001b[0m in \u001b[0;36m<module>\u001b[0;34m()\u001b[0m\n\u001b[1;32m      1\u001b[0m \u001b[0mmsg\u001b[0m \u001b[0;34m=\u001b[0m \u001b[0;34m\"Tengo \"\u001b[0m\u001b[0;34m\u001b[0m\u001b[0m\n\u001b[0;32m----> 2\u001b[0;31m \u001b[0mmsg_complete\u001b[0m \u001b[0;34m=\u001b[0m \u001b[0mmsg\u001b[0m \u001b[0;34m+\u001b[0m\u001b[0mnumber\u001b[0m \u001b[0;34m+\u001b[0m \u001b[0;34m\" a migos\"\u001b[0m\u001b[0;34m\u001b[0m\u001b[0m\n\u001b[0m\u001b[1;32m      3\u001b[0m \u001b[0mprint\u001b[0m\u001b[0;34m(\u001b[0m\u001b[0mmsg_complete\u001b[0m\u001b[0;34m)\u001b[0m\u001b[0;34m\u001b[0m\u001b[0m\n",
      "\u001b[0;31mTypeError\u001b[0m: must be str, not int"
     ]
    }
   ],
   "source": [
    "msg = \"Tengo \"\n",
    "msg_complete = msg +number + \" a migos\"\n",
    "print(msg_complete)"
   ]
  },
  {
   "cell_type": "markdown",
   "metadata": {},
   "source": [
    "Las variables de Python posee tipos, sólo que son variables."
   ]
  },
  {
   "cell_type": "markdown",
   "metadata": {},
   "source": [
    "## Asignación"
   ]
  },
  {
   "cell_type": "code",
   "execution_count": 40,
   "metadata": {},
   "outputs": [
    {
     "name": "stdout",
     "output_type": "stream",
     "text": [
      "3 4\n"
     ]
    }
   ],
   "source": [
    "a = 3\n",
    "b = 4\n",
    "print(a, b)"
   ]
  },
  {
   "cell_type": "markdown",
   "metadata": {},
   "source": [
    "Se pueden asignar varias variables a la vez"
   ]
  },
  {
   "cell_type": "code",
   "execution_count": 41,
   "metadata": {},
   "outputs": [
    {
     "name": "stdout",
     "output_type": "stream",
     "text": [
      "4 3\n"
     ]
    }
   ],
   "source": [
    "a, b = b, a\n",
    "print(a, b)"
   ]
  },
  {
   "cell_type": "markdown",
   "metadata": {},
   "source": [
    "## Listas"
   ]
  },
  {
   "cell_type": "markdown",
   "metadata": {},
   "source": [
    "Insertando elementos: \n",
    "- append para añadir elementos.\n",
    "- operador + para concatenar varias listas."
   ]
  },
  {
   "cell_type": "code",
   "execution_count": 26,
   "metadata": {},
   "outputs": [
    {
     "name": "stdout",
     "output_type": "stream",
     "text": [
      "[1, 2, 3]\n",
      "[1, 2, 3, 6, 8]\n",
      "[1, 2, 3, 6, 8, 3]\n"
     ]
    }
   ],
   "source": [
    "lista2 = lista + [6,8]\n",
    "print(lista)\n",
    "print(lista2)\n",
    "lista2.append(3)\n",
    "print(lista2)"
   ]
  },
  {
   "cell_type": "markdown",
   "metadata": {},
   "source": [
    "len da siempre el tamaño de la lista"
   ]
  },
  {
   "cell_type": "code",
   "execution_count": 24,
   "metadata": {},
   "outputs": [
    {
     "data": {
      "text/plain": [
       "3"
      ]
     },
     "execution_count": 24,
     "metadata": {},
     "output_type": "execute_result"
    }
   ],
   "source": [
    "len(lista)"
   ]
  },
  {
   "cell_type": "code",
   "execution_count": 27,
   "metadata": {},
   "outputs": [
    {
     "data": {
      "text/plain": [
       "6"
      ]
     },
     "execution_count": 27,
     "metadata": {},
     "output_type": "execute_result"
    }
   ],
   "source": [
    "len(lista2)"
   ]
  },
  {
   "cell_type": "markdown",
   "metadata": {},
   "source": [
    "## Acceso a elementos"
   ]
  },
  {
   "cell_type": "markdown",
   "metadata": {},
   "source": [
    "Se accede con [ ] como en otros lenguajes, pero es más flexible."
   ]
  },
  {
   "cell_type": "code",
   "execution_count": 30,
   "metadata": {},
   "outputs": [
    {
     "name": "stdout",
     "output_type": "stream",
     "text": [
      "False\n",
      "False\n",
      "El primer valor es  1\n",
      "Los dos siguientes son [2, 3]\n",
      "Todos los siguientes son [2, 3, 6, 8, 3]\n"
     ]
    }
   ],
   "source": [
    "print(4 in lista) # Se puede saber si un elemento está en la lista\n",
    "print(6 in lista)\n",
    "# Se puede acceder a un sólo elemento\n",
    "print(\"El primer valor es \", lista2[0])\n",
    "# O acceder a una sublista, indicando con \":\" las posiciones extremas (el final no incluído)\n",
    "print(\"Los dos siguientes son\", lista2[1:3])\n",
    "print(\"Todos los siguientes son\", lista2[1:])"
   ]
  },
  {
   "cell_type": "code",
   "execution_count": null,
   "metadata": {
    "collapsed": true
   },
   "outputs": [],
   "source": []
  },
  {
   "cell_type": "markdown",
   "metadata": {},
   "source": [
    "# Condicional"
   ]
  },
  {
   "cell_type": "markdown",
   "metadata": {},
   "source": [
    "Juguemos a un juego"
   ]
  },
  {
   "cell_type": "code",
   "execution_count": 34,
   "metadata": {},
   "outputs": [
    {
     "name": "stdout",
     "output_type": "stream",
     "text": [
      "Dime un numero\n",
      "30\n",
      "Has fallado, mas suerte para otra\n",
      "\n"
     ]
    }
   ],
   "source": [
    "print(\"Dime un numero\")\n",
    "numero = int(input())\n",
    "\n",
    "if numero == 7:\n",
    "  print(\"Has acertado!!!\\n\")\n",
    "else:\n",
    "  print(\"Has fallado, mas suerte para otra\\n\")"
   ]
  },
  {
   "cell_type": "markdown",
   "metadata": {},
   "source": [
    "Prueba varias veces, a ver qué tal."
   ]
  },
  {
   "cell_type": "markdown",
   "metadata": {},
   "source": [
    "¿Y si intentamos pagar?"
   ]
  },
  {
   "cell_type": "code",
   "execution_count": 33,
   "metadata": {},
   "outputs": [
    {
     "name": "stdout",
     "output_type": "stream",
     "text": [
      "2000\n",
      "Es mucho, pero te lo acepto por hacerte un favor\n"
     ]
    }
   ],
   "source": [
    "cantidad = int(input())\n",
    "\n",
    "if cantidad < 1000:\n",
    "  if cantidad < 100:\n",
    "    print(\"Eso es una miseria\")\n",
    "  else:\n",
    "    print(\"Eso es poco\")\n",
    "else:\n",
    "  print(\"Es mucho, pero te lo acepto por hacerte un favor\")"
   ]
  },
  {
   "cell_type": "markdown",
   "metadata": {},
   "source": [
    "## Usando if-elif-else"
   ]
  },
  {
   "cell_type": "code",
   "execution_count": 38,
   "metadata": {},
   "outputs": [
    {
     "name": "stdout",
     "output_type": "stream",
     "text": [
      "mayor que 0\n"
     ]
    }
   ],
   "source": [
    "if numero > 0: \n",
    "  print(\"mayor que 0\")\n",
    "elif numero > 5:\n",
    "  print(\"mayor que 5\")\n",
    "else:\n",
    "  print(\"menor o igual que 5\")"
   ]
  },
  {
   "cell_type": "markdown",
   "metadata": {},
   "source": [
    "Yo creo que ya lo tienes controlado, ¿te apetece un juego?"
   ]
  },
  {
   "cell_type": "markdown",
   "metadata": {},
   "source": [
    "# Juego Piedra-Tijeras-Lagarto-Spok\n",
    "\n",
    "![esquema](juego_friki.jpg)"
   ]
  },
  {
   "cell_type": "markdown",
   "metadata": {},
   "source": [
    "Ya que conocemos las condicionales es el momento de hacer algo chulo. Vamos a implementar la versión *friki* de papel-piedra-o-tijeras, que Seldon nos explica tan claramente en **The Big Bang Theory**:"
   ]
  },
  {
   "cell_type": "code",
   "execution_count": 43,
   "metadata": {},
   "outputs": [
    {
     "data": {
      "image/jpeg": "[encoded data removed]",
      "text/html": [
       "\n",
       "        <iframe\n",
       "            width=\"400\"\n",
       "            height=\"300\"\n",
       "            src=\"https://www.youtube.com/embed/_tsy4q9ibAE\"\n",
       "            frameborder=\"0\"\n",
       "            allowfullscreen\n",
       "        ></iframe>\n",
       "        "
      ],
      "text/plain": [
       "<IPython.lib.display.YouTubeVideo at 0x7f6096c6c6a0>"
      ]
     },
     "execution_count": 43,
     "metadata": {},
     "output_type": "execute_result"
    }
   ],
   "source": [
    "from IPython.display import YouTubeVideo\n",
    "YouTubeVideo(\"_tsy4q9ibAE\")"
   ]
  },
  {
   "cell_type": "markdown",
   "metadata": {},
   "source": [
    "Por si no ha quedado claro:"
   ]
  },
  {
   "cell_type": "code",
   "execution_count": 44,
   "metadata": {},
   "outputs": [
    {
     "data": {
      "image/jpeg": "[encoded data removed]",
      "text/html": [
       "\n",
       "        <iframe\n",
       "            width=\"400\"\n",
       "            height=\"300\"\n",
       "            src=\"https://www.youtube.com/embed/1Ym17rIfCWs\"\n",
       "            frameborder=\"0\"\n",
       "            allowfullscreen\n",
       "        ></iframe>\n",
       "        "
      ],
      "text/plain": [
       "<IPython.lib.display.YouTubeVideo at 0x7f6096c6c4e0>"
      ]
     },
     "execution_count": 44,
     "metadata": {},
     "output_type": "execute_result"
    }
   ],
   "source": [
    "YouTubeVideo(\"1Ym17rIfCWs\")"
   ]
  },
  {
   "cell_type": "raw",
   "metadata": {},
   "source": [
    "Resumiento:\n",
    "- piedra gana a tijeras, lagarto, empata consigo mismo.\n",
    "- tijeras gana a papel, lagarto.\n",
    "- papel gana a piedra, spock.\n",
    "- lagarto gana a spock, papel.\n",
    "- spock gana tijeras, piedra.\n"
   ]
  },
  {
   "cell_type": "code",
   "execution_count": 19,
   "metadata": {},
   "outputs": [
    {
     "ename": "KeyboardInterrupt",
     "evalue": "",
     "output_type": "error",
     "traceback": [
      "\u001b[0;31m---------------------------------------------------------------------------\u001b[0m",
      "\u001b[0;31mKeyboardInterrupt\u001b[0m                         Traceback (most recent call last)",
      "\u001b[0;32m/mnt/home/daniel/anaconda3/lib/python3.6/site-packages/ipykernel/kernelbase.py\u001b[0m in \u001b[0;36m_input_request\u001b[0;34m(self, prompt, ident, parent, password)\u001b[0m\n\u001b[1;32m    729\u001b[0m             \u001b[0;32mtry\u001b[0m\u001b[0;34m:\u001b[0m\u001b[0;34m\u001b[0m\u001b[0m\n\u001b[0;32m--> 730\u001b[0;31m                 \u001b[0mident\u001b[0m\u001b[0;34m,\u001b[0m \u001b[0mreply\u001b[0m \u001b[0;34m=\u001b[0m \u001b[0mself\u001b[0m\u001b[0;34m.\u001b[0m\u001b[0msession\u001b[0m\u001b[0;34m.\u001b[0m\u001b[0mrecv\u001b[0m\u001b[0;34m(\u001b[0m\u001b[0mself\u001b[0m\u001b[0;34m.\u001b[0m\u001b[0mstdin_socket\u001b[0m\u001b[0;34m,\u001b[0m \u001b[0;36m0\u001b[0m\u001b[0;34m)\u001b[0m\u001b[0;34m\u001b[0m\u001b[0m\n\u001b[0m\u001b[1;32m    731\u001b[0m             \u001b[0;32mexcept\u001b[0m \u001b[0mException\u001b[0m\u001b[0;34m:\u001b[0m\u001b[0;34m\u001b[0m\u001b[0m\n",
      "\u001b[0;32m/mnt/home/daniel/anaconda3/lib/python3.6/site-packages/jupyter_client/session.py\u001b[0m in \u001b[0;36mrecv\u001b[0;34m(self, socket, mode, content, copy)\u001b[0m\n\u001b[1;32m    777\u001b[0m         \u001b[0;32mtry\u001b[0m\u001b[0;34m:\u001b[0m\u001b[0;34m\u001b[0m\u001b[0m\n\u001b[0;32m--> 778\u001b[0;31m             \u001b[0mmsg_list\u001b[0m \u001b[0;34m=\u001b[0m \u001b[0msocket\u001b[0m\u001b[0;34m.\u001b[0m\u001b[0mrecv_multipart\u001b[0m\u001b[0;34m(\u001b[0m\u001b[0mmode\u001b[0m\u001b[0;34m,\u001b[0m \u001b[0mcopy\u001b[0m\u001b[0;34m=\u001b[0m\u001b[0mcopy\u001b[0m\u001b[0;34m)\u001b[0m\u001b[0;34m\u001b[0m\u001b[0m\n\u001b[0m\u001b[1;32m    779\u001b[0m         \u001b[0;32mexcept\u001b[0m \u001b[0mzmq\u001b[0m\u001b[0;34m.\u001b[0m\u001b[0mZMQError\u001b[0m \u001b[0;32mas\u001b[0m \u001b[0me\u001b[0m\u001b[0;34m:\u001b[0m\u001b[0;34m\u001b[0m\u001b[0m\n",
      "\u001b[0;32m/mnt/home/daniel/anaconda3/lib/python3.6/site-packages/zmq/sugar/socket.py\u001b[0m in \u001b[0;36mrecv_multipart\u001b[0;34m(self, flags, copy, track)\u001b[0m\n\u001b[1;32m    394\u001b[0m         \"\"\"\n\u001b[0;32m--> 395\u001b[0;31m         \u001b[0mparts\u001b[0m \u001b[0;34m=\u001b[0m \u001b[0;34m[\u001b[0m\u001b[0mself\u001b[0m\u001b[0;34m.\u001b[0m\u001b[0mrecv\u001b[0m\u001b[0;34m(\u001b[0m\u001b[0mflags\u001b[0m\u001b[0;34m,\u001b[0m \u001b[0mcopy\u001b[0m\u001b[0;34m=\u001b[0m\u001b[0mcopy\u001b[0m\u001b[0;34m,\u001b[0m \u001b[0mtrack\u001b[0m\u001b[0;34m=\u001b[0m\u001b[0mtrack\u001b[0m\u001b[0;34m)\u001b[0m\u001b[0;34m]\u001b[0m\u001b[0;34m\u001b[0m\u001b[0m\n\u001b[0m\u001b[1;32m    396\u001b[0m         \u001b[0;31m# have first part already, only loop while more to receive\u001b[0m\u001b[0;34m\u001b[0m\u001b[0;34m\u001b[0m\u001b[0m\n",
      "\u001b[0;32mzmq/backend/cython/socket.pyx\u001b[0m in \u001b[0;36mzmq.backend.cython.socket.Socket.recv (zmq/backend/cython/socket.c:7683)\u001b[0;34m()\u001b[0m\n",
      "\u001b[0;32mzmq/backend/cython/socket.pyx\u001b[0m in \u001b[0;36mzmq.backend.cython.socket.Socket.recv (zmq/backend/cython/socket.c:7460)\u001b[0;34m()\u001b[0m\n",
      "\u001b[0;32mzmq/backend/cython/socket.pyx\u001b[0m in \u001b[0;36mzmq.backend.cython.socket._recv_copy (zmq/backend/cython/socket.c:2344)\u001b[0;34m()\u001b[0m\n",
      "\u001b[0;32m/mnt/home/daniel/anaconda3/lib/python3.6/site-packages/zmq/backend/cython/checkrc.pxd\u001b[0m in \u001b[0;36mzmq.backend.cython.checkrc._check_rc (zmq/backend/cython/socket.c:9621)\u001b[0;34m()\u001b[0m\n",
      "\u001b[0;31mKeyboardInterrupt\u001b[0m: ",
      "\nDuring handling of the above exception, another exception occurred:\n",
      "\u001b[0;31mKeyboardInterrupt\u001b[0m                         Traceback (most recent call last)",
      "\u001b[0;32m<ipython-input-19-5a801a23fb45>\u001b[0m in \u001b[0;36m<module>\u001b[0;34m()\u001b[0m\n\u001b[1;32m      3\u001b[0m \u001b[0;34m\u001b[0m\u001b[0m\n\u001b[1;32m      4\u001b[0m \u001b[0;32mwhile\u001b[0m \u001b[0;32mnot\u001b[0m \u001b[0mvalid\u001b[0m\u001b[0;34m:\u001b[0m\u001b[0;34m\u001b[0m\u001b[0m\n\u001b[0;32m----> 5\u001b[0;31m     \u001b[0mopcion1\u001b[0m \u001b[0;34m=\u001b[0m \u001b[0minput\u001b[0m\u001b[0;34m(\u001b[0m\u001b[0;34m)\u001b[0m\u001b[0;34m\u001b[0m\u001b[0m\n\u001b[0m\u001b[1;32m      6\u001b[0m     \u001b[0mvalid\u001b[0m \u001b[0;34m=\u001b[0m \u001b[0;34m(\u001b[0m\u001b[0mopcion1\u001b[0m \u001b[0;32min\u001b[0m \u001b[0mopciones\u001b[0m\u001b[0;34m)\u001b[0m\u001b[0;34m\u001b[0m\u001b[0m\n\u001b[1;32m      7\u001b[0m \u001b[0;34m\u001b[0m\u001b[0m\n",
      "\u001b[0;32m/mnt/home/daniel/anaconda3/lib/python3.6/site-packages/ipykernel/kernelbase.py\u001b[0m in \u001b[0;36mraw_input\u001b[0;34m(self, prompt)\u001b[0m\n\u001b[1;32m    703\u001b[0m             \u001b[0mself\u001b[0m\u001b[0;34m.\u001b[0m\u001b[0m_parent_ident\u001b[0m\u001b[0;34m,\u001b[0m\u001b[0;34m\u001b[0m\u001b[0m\n\u001b[1;32m    704\u001b[0m             \u001b[0mself\u001b[0m\u001b[0;34m.\u001b[0m\u001b[0m_parent_header\u001b[0m\u001b[0;34m,\u001b[0m\u001b[0;34m\u001b[0m\u001b[0m\n\u001b[0;32m--> 705\u001b[0;31m             \u001b[0mpassword\u001b[0m\u001b[0;34m=\u001b[0m\u001b[0;32mFalse\u001b[0m\u001b[0;34m,\u001b[0m\u001b[0;34m\u001b[0m\u001b[0m\n\u001b[0m\u001b[1;32m    706\u001b[0m         )\n\u001b[1;32m    707\u001b[0m \u001b[0;34m\u001b[0m\u001b[0m\n",
      "\u001b[0;32m/mnt/home/daniel/anaconda3/lib/python3.6/site-packages/ipykernel/kernelbase.py\u001b[0m in \u001b[0;36m_input_request\u001b[0;34m(self, prompt, ident, parent, password)\u001b[0m\n\u001b[1;32m    733\u001b[0m             \u001b[0;32mexcept\u001b[0m \u001b[0mKeyboardInterrupt\u001b[0m\u001b[0;34m:\u001b[0m\u001b[0;34m\u001b[0m\u001b[0m\n\u001b[1;32m    734\u001b[0m                 \u001b[0;31m# re-raise KeyboardInterrupt, to truncate traceback\u001b[0m\u001b[0;34m\u001b[0m\u001b[0;34m\u001b[0m\u001b[0m\n\u001b[0;32m--> 735\u001b[0;31m                 \u001b[0;32mraise\u001b[0m \u001b[0mKeyboardInterrupt\u001b[0m\u001b[0;34m\u001b[0m\u001b[0m\n\u001b[0m\u001b[1;32m    736\u001b[0m             \u001b[0;32melse\u001b[0m\u001b[0;34m:\u001b[0m\u001b[0;34m\u001b[0m\u001b[0m\n\u001b[1;32m    737\u001b[0m                 \u001b[0;32mbreak\u001b[0m\u001b[0;34m\u001b[0m\u001b[0m\n",
      "\u001b[0;31mKeyboardInterrupt\u001b[0m: "
     ]
    }
   ],
   "source": [
    "opciones = ['piedra', 'papel', 'tijeras', 'lagarto', 'spock']\n",
    "valid = False\n",
    "\n",
    "while not valid:\n",
    "    opcion1 = input()\n",
    "    valid = (opcion1 in opciones)\n",
    "\n",
    "valid = False\n",
    "\n",
    "while not valid:\n",
    "    opcion2 = input()\n",
    "    valid = (opcion2 in opciones)\n",
    "    \n",
    "# Comprueba opcion1 y opcion2\n",
    "# if (...)\n",
    "#    print(op)\n",
    "# "
   ]
  },
  {
   "cell_type": "markdown",
   "metadata": {},
   "source": [
    "Inténtalo."
   ]
  },
  {
   "cell_type": "markdown",
   "metadata": {},
   "source": [
    "## Uso de listas"
   ]
  },
  {
   "cell_type": "code",
   "execution_count": 6,
   "metadata": {},
   "outputs": [
    {
     "name": "stdout",
     "output_type": "stream",
     "text": [
      "python 42 4\n"
     ]
    }
   ],
   "source": [
    "lista1 = ['monty', 'python', 42]\n",
    "lista2 = [1, 2, 3, 4, 5]\n",
    "print(lista1[1], lista1[2], lista2[3])"
   ]
  },
  {
   "cell_type": "code",
   "execution_count": 7,
   "metadata": {},
   "outputs": [
    {
     "name": "stdout",
     "output_type": "stream",
     "text": [
      "[1, 2, 3, 4, 5]\n",
      "[1, 2, 6, 4, 5]\n",
      "[1, 2, 6, 4, 5, 9]\n",
      "[0, 1, 2, 6, 4, 5, 9]\n",
      "[0, 1, 2, 6, 5, 9]\n",
      "[0, 1, 2, 6, 5, 9, 10, 11]\n",
      "[]\n"
     ]
    }
   ],
   "source": [
    " lista = [1, 2, 3, 4, 5]\n",
    " print(lista)\n",
    " lista[2] *= 2\n",
    " print(lista)\n",
    " lista.append(9)\n",
    " print(lista)\n",
    " lista.insert(0, 0)\n",
    " print(lista)\n",
    " del lista[4]\n",
    " print(lista)\n",
    " lista = lista + [10, 11]\n",
    " print(lista)\n",
    " lista.clear()\n",
    " print(lista)"
   ]
  },
  {
   "cell_type": "code",
   "execution_count": 9,
   "metadata": {},
   "outputs": [
    {
     "name": "stdout",
     "output_type": "stream",
     "text": [
      "4\n",
      "[2, 3]\n",
      "[1, 2, 3]\n",
      "[1, 2, 3]\n",
      "[4, 5, 6]\n",
      "[1, 3, 5]\n",
      "[1, 3, 5]\n",
      "[1, 2, 3, 4, 5, 6]\n",
      "[1, 2, 3, 4, 5, 6]\n",
      "[6, 5, 4, 3, 2, 1]\n"
     ]
    }
   ],
   "source": [
    "lista = [1, 2, 3, 4, 5, 6]\n",
    "print(lista[3])\n",
    "print(lista[1:3])\n",
    "print(lista[0:3])\n",
    "print(lista[:3])\n",
    "print(lista[3:])\n",
    "print(lista[0:6:2])\n",
    "print(lista[::2])\n",
    "print(lista[:])\n",
    "print(lista[::])\n",
    "print(lista[::-1])"
   ]
  },
  {
   "cell_type": "markdown",
   "metadata": {},
   "source": [
    "Recuerda: Las listas son referencias"
   ]
  },
  {
   "cell_type": "code",
   "execution_count": 10,
   "metadata": {},
   "outputs": [
    {
     "name": "stdout",
     "output_type": "stream",
     "text": [
      "Lista2:  [1, 2, 0, 4, 5, 6]\n",
      "Lista original:  [1, 2, 0, 4, 5, 6]\n"
     ]
    }
   ],
   "source": [
    " lista = [1, 2, 3, 4, 5, 6]\n",
    " lista2 = lista\n",
    " lista2[2] = 0\n",
    " print(\"Lista2: \", lista2)\n",
    " print(\"Lista original: \", lista)\n"
   ]
  },
  {
   "cell_type": "markdown",
   "metadata": {},
   "source": [
    "Para evitar problemas hay que copiar"
   ]
  },
  {
   "cell_type": "code",
   "execution_count": 11,
   "metadata": {},
   "outputs": [
    {
     "name": "stdout",
     "output_type": "stream",
     "text": [
      "Lista2:  [1, 2, 0, 4, 5, 6]\n",
      "Lista original:  [1, 2, 3, 4, 5, 6]\n"
     ]
    }
   ],
   "source": [
    " lista = [1, 2, 3, 4, 5, 6]\n",
    " lista2 = lista[:]\n",
    " lista2[2] = 0\n",
    " print(\"Lista2: \", lista2)\n",
    " print(\"Lista original: \", lista)\n"
   ]
  },
  {
   "cell_type": "markdown",
   "metadata": {},
   "source": [
    "## Cadena"
   ]
  },
  {
   "cell_type": "code",
   "execution_count": 13,
   "metadata": {},
   "outputs": [
    {
     "name": "stdout",
     "output_type": "stream",
     "text": [
      "4\n",
      "o\n",
      "Caracteres: \n",
      "h\n",
      "o\n",
      "l\n",
      "a\n"
     ]
    }
   ],
   "source": [
    "msg = \"hola\"\n",
    "print(len(msg))\n",
    "print(msg[1])\n",
    "print(\"Caracteres: \")\n",
    "\n",
    "for c in msg:\n",
    "    print(c)\n"
   ]
  },
  {
   "cell_type": "markdown",
   "metadata": {},
   "source": [
    "## Recorrido de listas"
   ]
  },
  {
   "cell_type": "markdown",
   "metadata": {},
   "source": [
    "Recorrer una lista es muy sencillo"
   ]
  },
  {
   "cell_type": "code",
   "execution_count": 20,
   "metadata": {},
   "outputs": [
    {
     "name": "stdout",
     "output_type": "stream",
     "text": [
      "['a', 'b', 'c', 'd', 'e']\n",
      "a\n",
      "b\n",
      "c\n",
      "d\n",
      "e\n"
     ]
    }
   ],
   "source": [
    "lista = ['a', 'b', 'c', 'd', 'e']\n",
    "print(lista)\n",
    "      \n",
    "for item in lista:\n",
    "      print(item)"
   ]
  },
  {
   "cell_type": "code",
   "execution_count": null,
   "metadata": {
    "collapsed": true
   },
   "outputs": [],
   "source": []
  },
  {
   "cell_type": "markdown",
   "metadata": {},
   "source": [
    "Incluso se puede obtener un contador"
   ]
  },
  {
   "cell_type": "code",
   "execution_count": 18,
   "metadata": {},
   "outputs": [
    {
     "name": "stdout",
     "output_type": "stream",
     "text": [
      "El elemento 0 vale a\n",
      "El elemento 1 vale b\n",
      "El elemento 2 vale c\n",
      "El elemento 3 vale d\n",
      "El elemento 4 vale e\n"
     ]
    }
   ],
   "source": [
    "for i, item in enumerate(lista):\n",
    "    print (\"El elemento\", i, \"vale\", item)"
   ]
  },
  {
   "cell_type": "markdown",
   "metadata": {},
   "source": [
    "Se pueden combinar el recorrido de dos listas"
   ]
  },
  {
   "cell_type": "code",
   "execution_count": 17,
   "metadata": {},
   "outputs": [
    {
     "name": "stdout",
     "output_type": "stream",
     "text": [
      "Usuario Daniel tiene pie 43\n",
      "Usuario Amalia tiene pie 41\n",
      "Usuario Carlos tiene pie 44\n",
      "Usuario Rosa tiene pie 42\n",
      "Usuario Daniel tiene pie 43\n",
      "Usuario Amalia tiene pie 41\n",
      "Usuario Carlos tiene pie 44\n",
      "Usuario Rosa tiene pie 42\n",
      "Usuario Daniel tiene pie 43\n",
      "Usuario Amalia tiene pie 41\n",
      "Usuario Carlos tiene pie 44\n",
      "Usuario Rosa tiene pie 42\n"
     ]
    }
   ],
   "source": [
    "nombres = ['Daniel', 'Amalia', 'Carlos', 'Rosa']\n",
    "pies = [43, 41, 44, 42]\n",
    "\n",
    "# Option 1: estilo C\n",
    "for i in range(len(nombres)):\n",
    "    print(\"Usuario\", nombres[i], \"tiene pie\", pies[i])\n",
    "# Option 2: Recorrido con enumerate\n",
    "for i, nombre in enumerate(nombres):\n",
    "    print(\"Usuario\", nombre, \"tiene pie\", pies[i])\n",
    "# Option 3: uso de zip\n",
    "for nombre, pie in zip(nombres, pies):\n",
    "    print(\"Usuario\", nombre, \"tiene pie\", pie)\n"
   ]
  },
  {
   "cell_type": "markdown",
   "metadata": {},
   "source": [
    "### Bucle for inline"
   ]
  },
  {
   "cell_type": "code",
   "execution_count": 22,
   "metadata": {},
   "outputs": [
    {
     "name": "stdout",
     "output_type": "stream",
     "text": [
      "[1, 2, 3, -2, 0, 4, -3, 5]\n",
      "[1, 4, 9, 4, 0, 16, 9, 25]\n",
      "[1, 4, 9, 16, 25]\n"
     ]
    }
   ],
   "source": [
    "numeros = [1, 2, 3, -2, 0, 4, -3, 5]\n",
    "print(numeros)\n",
    "print([x**2 for x in numeros])\n",
    "print([x**2 for x in numeros if x > 0])"
   ]
  },
  {
   "cell_type": "markdown",
   "metadata": {},
   "source": [
    "Incluso se puede concatenar"
   ]
  },
  {
   "cell_type": "code",
   "execution_count": 52,
   "metadata": {},
   "outputs": [
    {
     "name": "stdout",
     "output_type": "stream",
     "text": [
      "[(0, 0), (0, 1), (0, 2), (0, 3), (0, 4), (1, 0), (1, 1), (1, 2), (1, 3), (1, 4), (2, 0), (2, 1), (2, 2), (2, 3), (2, 4), (3, 0), (3, 1), (3, 2), (3, 3), (3, 4), (4, 0), (4, 1), (4, 2), (4, 3), (4, 4)]\n"
     ]
    }
   ],
   "source": [
    "rango = range(5)\n",
    "print([(x,y) for x in rango for y in rango])"
   ]
  },
  {
   "cell_type": "markdown",
   "metadata": {},
   "source": [
    "# Hagamos otro juego"
   ]
  },
  {
   "cell_type": "markdown",
   "metadata": {},
   "source": [
    "Vamos a hacer el juego del ahorcado con dos jugadores. Primero el programa pide la palabra, y luego le va preguntando a otro usuario para que vaya acertando. Por cada letra en la palabra acertada, muestra"
   ]
  },
  {
   "cell_type": "markdown",
   "metadata": {},
   "source": [
    "## Cuidado con iteradores"
   ]
  },
  {
   "cell_type": "code",
   "execution_count": 33,
   "metadata": {},
   "outputs": [
    {
     "name": "stdout",
     "output_type": "stream",
     "text": [
      "0\n",
      "2\n",
      "4\n",
      "6\n",
      "8\n",
      "Segundo intento\n"
     ]
    }
   ],
   "source": [
    "def espar(x):\n",
    "    return x % 2 == 0\n",
    "\n",
    "lista = range(10)\n",
    "pares = filter(espar, lista)\n",
    "\n",
    "for par in pares:\n",
    "    print(par)\n",
    "    \n",
    "print(\"Segundo intento\")\n",
    "\n",
    "for par in pares:\n",
    "    print(par)"
   ]
  },
  {
   "cell_type": "code",
   "execution_count": 34,
   "metadata": {},
   "outputs": [
    {
     "name": "stdout",
     "output_type": "stream",
     "text": [
      "0\n",
      "2\n",
      "4\n",
      "6\n",
      "8\n",
      "Segundo intento, como lista\n",
      "0\n",
      "2\n",
      "4\n",
      "6\n",
      "8\n"
     ]
    }
   ],
   "source": [
    "lista = range(10)\n",
    "pares = filter(espar, lista)\n",
    "pares = list(pares)\n",
    "\n",
    "for par in pares:\n",
    "    print(par)\n",
    "    \n",
    "print(\"Segundo intento, como lista\")\n",
    "\n",
    "for par in pares:\n",
    "    print(par)"
   ]
  },
  {
   "cell_type": "markdown",
   "metadata": {},
   "source": [
    "# Funciones"
   ]
  },
  {
   "cell_type": "code",
   "execution_count": 37,
   "metadata": {},
   "outputs": [
    {
     "name": "stdout",
     "output_type": "stream",
     "text": [
      "5\n",
      "4\n",
      "0\n"
     ]
    }
   ],
   "source": [
    "def mymax(value1, value2):\n",
    "    if value1 >= value2:\n",
    "        return value1\n",
    "    else:\n",
    "        return value2\n",
    "\n",
    "print(mymax(3, 5))\n",
    "print(mymax(4, 2))\n",
    "print(mymax(0, -2))"
   ]
  },
  {
   "cell_type": "markdown",
   "metadata": {},
   "source": [
    "Puede devolver todo"
   ]
  },
  {
   "cell_type": "code",
   "execution_count": 36,
   "metadata": {},
   "outputs": [
    {
     "name": "stdout",
     "output_type": "stream",
     "text": [
      "[5, 4, 6]\n"
     ]
    }
   ],
   "source": [
    "def add_vector(vector1, vector2):\n",
    "    result = []\n",
    "\n",
    "    for item1, item2 in zip(vector1, vector2):\n",
    "        result.append(item1+item2)\n",
    "\n",
    "    return result\n",
    "\n",
    "\n",
    "print(add_vector([1, 2, 3], [4, 2, 3]))\n"
   ]
  },
  {
   "cell_type": "code",
   "execution_count": 44,
   "metadata": {},
   "outputs": [
    {
     "name": "stdout",
     "output_type": "stream",
     "text": [
      "3\n",
      "4\n",
      "3\n"
     ]
    }
   ],
   "source": [
    "def fun1(param):\n",
    "    print(param)\n",
    "    param = 4\n",
    "    print(param)\n",
    "\n",
    "variable = 3\n",
    "fun1(variable)\n",
    "print(variable)"
   ]
  },
  {
   "cell_type": "markdown",
   "metadata": {},
   "source": [
    "Si se pasa un objeto se puede modificar sus atributos."
   ]
  },
  {
   "cell_type": "code",
   "execution_count": 48,
   "metadata": {},
   "outputs": [
    {
     "name": "stdout",
     "output_type": "stream",
     "text": [
      "3\n",
      "4\n",
      "4\n"
     ]
    }
   ],
   "source": [
    "class name:\n",
    "    def __init__(self):\n",
    "        self.value = 0\n",
    "        \n",
    "    def __str__(self):\n",
    "        return str(self.value)\n",
    "\n",
    "def fun1(param):\n",
    "    print(param)\n",
    "    param.value = 4\n",
    "    print(param)\n",
    "\n",
    "variable = name()\n",
    "variable.value = 3\n",
    "fun1(variable)\n",
    "print(variable)"
   ]
  },
  {
   "cell_type": "markdown",
   "metadata": {},
   "source": [
    "## Uso de clases"
   ]
  },
  {
   "cell_type": "code",
   "execution_count": 49,
   "metadata": {
    "collapsed": true
   },
   "outputs": [],
   "source": [
    "class Point:\n",
    "\n",
    "   def __init__(self, x = 0, y = 0):\n",
    "      self.xCoord = x\n",
    "      self.yCoord = y\n",
    "\n",
    "   def __str__(self):\n",
    "      return \"({},{})\".format(self.xCoord, self.yCoord)\n",
    "\n",
    "   def getX(self):\n",
    "      return self.xCoord\n",
    "\n",
    "   def getY(self):\n",
    "      return self.yCoord\n",
    "\n",
    "   def shift(self, xInc, yInc):\n",
    "      self.xCoord += xInc\n",
    "      self.yCoord += yInc\n"
   ]
  },
  {
   "cell_type": "code",
   "execution_count": 50,
   "metadata": {},
   "outputs": [
    {
     "name": "stdout",
     "output_type": "stream",
     "text": [
      "(1,2), (1,1)\n"
     ]
    }
   ],
   "source": [
    "class Polygon:\n",
    "    def __init__(self, no_of_sides):\n",
    "        self.n = no_of_sides\n",
    "        self.sides = [Point(0,0) for i in range(self.n)]\n",
    "\n",
    "    def setPoint(self, i, x, y):\n",
    "        assert i >= 0 and i < self.n\n",
    "        self.sides[i] = Point(x, y)\n",
    "\n",
    "    def __str__(self):\n",
    "        return \", \".join([str(t) for t in self.sides])\n",
    "\n",
    "a = Polygon(2)\n",
    "a.setPoint(0, x=1, y=2)\n",
    "a.setPoint(1, x=1, y=1)\n",
    "print(a)\n"
   ]
  },
  {
   "cell_type": "code",
   "execution_count": 51,
   "metadata": {},
   "outputs": [
    {
     "name": "stdout",
     "output_type": "stream",
     "text": [
      "(0,0), (0,3), (3,3), (3,0), (0,0)\n",
      "(2,2), (2,3), (3,3), (3,2), (2,2)\n"
     ]
    }
   ],
   "source": [
    "def copy(point, incX=0, incY=0):\n",
    "    return Point(point.getX()+incX, point.getY()+incY)\n",
    "\n",
    "class Rectangle(Polygon):\n",
    "    def __init__(self, init, size):\n",
    "        Polygon.__init__(self, 5)\n",
    "        self.sides[0] = copy(init)\n",
    "        self.sides[1] = copy(init, incY=size)\n",
    "        self.sides[2] = copy(init, incX=size, incY=size)\n",
    "        self.sides[3] = copy(init, incX=size)\n",
    "        self.sides[4] = copy(init)\n",
    "\n",
    "a = Rectangle(Point(0, 0), 3)\n",
    "print(a)\n",
    "a = Rectangle(Point(2, 2), 1)\n",
    "print(a)\n"
   ]
  }
 ],
 "metadata": {
  "kernelspec": {
   "display_name": "Python 3",
   "language": "python",
   "name": "python3"
  },
  "language_info": {
   "codemirror_mode": {
    "name": "ipython",
    "version": 3
   },
   "file_extension": ".py",
   "mimetype": "text/x-python",
   "name": "python",
   "nbconvert_exporter": "python",
   "pygments_lexer": "ipython3",
   "version": "3.6.1"
  }
 },
 "nbformat": 4,
 "nbformat_minor": 2
}
