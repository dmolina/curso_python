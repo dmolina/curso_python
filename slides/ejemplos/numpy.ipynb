{
 "cells": [
  {
   "cell_type": "markdown",
   "metadata": {},
   "source": [
    "## Pruebas de tiempo con Numpy"
   ]
  },
  {
   "cell_type": "code",
   "execution_count": 230,
   "metadata": {
    "collapsed": true
   },
   "outputs": [],
   "source": [
    "num = 1_000_000"
   ]
  },
  {
   "cell_type": "code",
   "execution_count": 231,
   "metadata": {},
   "outputs": [],
   "source": [
    "xs = list(range(num))\n",
    "ys = list(range(1, num+1))"
   ]
  },
  {
   "cell_type": "code",
   "execution_count": 232,
   "metadata": {
    "collapsed": true
   },
   "outputs": [],
   "source": [
    "import math"
   ]
  },
  {
   "cell_type": "code",
   "execution_count": 233,
   "metadata": {
    "collapsed": true
   },
   "outputs": [],
   "source": [
    "def disteuc(xs,ys):\n",
    "    sum = 0\n",
    "    for x, y in zip(xs, ys):\n",
    "        sum += (x-y)*(x-y)\n",
    "        \n",
    "    return math.sqrt(sum)"
   ]
  },
  {
   "cell_type": "code",
   "execution_count": 234,
   "metadata": {},
   "outputs": [
    {
     "name": "stdout",
     "output_type": "stream",
     "text": [
      "CPU times: user 188 ms, sys: 0 ns, total: 188 ms\n",
      "Wall time: 188 ms\n"
     ]
    },
    {
     "data": {
      "text/plain": [
       "1000.0"
      ]
     },
     "execution_count": 234,
     "metadata": {},
     "output_type": "execute_result"
    }
   ],
   "source": [
    "%time disteuc(xs,ys)"
   ]
  },
  {
   "cell_type": "code",
   "execution_count": 235,
   "metadata": {
    "collapsed": true
   },
   "outputs": [],
   "source": [
    "import numpy as np\n",
    "xs2 = np.arange(num)\n",
    "ys2 = np.arange(1, num+1)"
   ]
  },
  {
   "cell_type": "code",
   "execution_count": 236,
   "metadata": {},
   "outputs": [],
   "source": [
    "def disteucnp(xs,ys):\n",
    "    z = (xs-ys)\n",
    "    return math.sqrt((z*z).sum())"
   ]
  },
  {
   "cell_type": "code",
   "execution_count": 237,
   "metadata": {},
   "outputs": [
    {
     "name": "stdout",
     "output_type": "stream",
     "text": [
      "CPU times: user 4 ms, sys: 4 ms, total: 8 ms\n",
      "Wall time: 6.3 ms\n"
     ]
    },
    {
     "data": {
      "text/plain": [
       "1000.0"
      ]
     },
     "execution_count": 237,
     "metadata": {},
     "output_type": "execute_result"
    }
   ],
   "source": [
    "%time disteucnp(xs2,ys2)"
   ]
  },
  {
   "cell_type": "markdown",
   "metadata": {},
   "source": [
    "## Otra prueba, detectando si alguien gana"
   ]
  },
  {
   "cell_type": "code",
   "execution_count": 238,
   "metadata": {
    "collapsed": true
   },
   "outputs": [],
   "source": [
    "tam=15"
   ]
  },
  {
   "cell_type": "code",
   "execution_count": 239,
   "metadata": {},
   "outputs": [
    {
     "name": "stdout",
     "output_type": "stream",
     "text": [
      "[[ 0 14 19 10  2 28  4 23 12 26 27 29 19 27 12]\n",
      " [12  0  3 24 20 26 24 21  1 19 16 24 23  8  2]\n",
      " [ 8 26  0 18 29 26 27 24 12  6 14  9 16 21 15]\n",
      " [16  1 17  0 27 23  3 21 21  8 27  1  8  1 24]\n",
      " [ 3 29  7 20  0 24 17  9 20 23 20  2 25 27 12]\n",
      " [ 9 20  6 19 11  0 22 12 18 17  7 21 23  3 22]\n",
      " [24 29  5 12 20 24  0 29 18 28  2  8 22 23  1]\n",
      " [ 5 20  9 20  6 19 24  0 19  2 23  3 16 22 22]\n",
      " [14  7  9  3 12 29 21  7  0  5  8 26 21 10 24]\n",
      " [ 3 17  6 29 19  3 22  7  8  0 10 20 15  9 29]\n",
      " [29 11 21 27 18  7 10 14 14 18  0 22 22 15 22]\n",
      " [16  8 17  2 29 14 13 24 19 10 12  0 13  8 24]\n",
      " [29 20 11 15 24 15  7 27 14 21 19 18  0 29  3]\n",
      " [ 5 25 15  3 29 13 13 26 17 27  1 22  7  0 20]\n",
      " [ 4  4 14 13  9  9  6 23  5 14 19 24 15 15  0]]\n",
      "Solución: [ 6 14  7 13 11 10  5  2 12  8  0  1  9  4  3]\n"
     ]
    }
   ],
   "source": [
    "dist = np.random.randint(1, 30, size=tam*tam).reshape((tam,tam))\n",
    "dist[np.arange(tam),np.arange(tam)] = 0\n",
    "sol = np.random.permutation(tam)\n",
    "print(dist)\n",
    "print(\"Solución:\", sol)"
   ]
  },
  {
   "cell_type": "code",
   "execution_count": 240,
   "metadata": {},
   "outputs": [],
   "source": [
    "def tsp(orden, dist):\n",
    "    sum = 0\n",
    "    \n",
    "    for i in range(len(orden)-1):\n",
    "        sum += dist[orden[i]][orden[i+1]]\n",
    "   \n",
    "    sum += dist[orden[-1]][orden[0]]\n",
    "    return sum"
   ]
  },
  {
   "cell_type": "code",
   "execution_count": 241,
   "metadata": {},
   "outputs": [],
   "source": [
    "dist_raw = dist.tolist()\n",
    "sol_raw = sol.tolist()"
   ]
  },
  {
   "cell_type": "code",
   "execution_count": 242,
   "metadata": {},
   "outputs": [
    {
     "name": "stdout",
     "output_type": "stream",
     "text": [
      "100000 loops, best of 3: 2.7 µs per loop\n"
     ]
    }
   ],
   "source": [
    "%timeit tsp(sol_raw,dist_raw)"
   ]
  },
  {
   "cell_type": "code",
   "execution_count": 243,
   "metadata": {},
   "outputs": [
    {
     "data": {
      "text/plain": [
       "212"
      ]
     },
     "execution_count": 243,
     "metadata": {},
     "output_type": "execute_result"
    }
   ],
   "source": [
    "total=tsp(sol_raw,dist_raw)\n",
    "total"
   ]
  },
  {
   "cell_type": "code",
   "execution_count": 244,
   "metadata": {},
   "outputs": [
    {
     "name": "stdout",
     "output_type": "stream",
     "text": [
      "[ 6 14  7 13 11 10  5  2 12  8  0  1  9  4  3]\n",
      "[14  7 13 11 10  5  2 12  8  0  1  9  4  3  6]\n"
     ]
    },
    {
     "data": {
      "text/plain": [
       "212"
      ]
     },
     "execution_count": 244,
     "metadata": {},
     "output_type": "execute_result"
    }
   ],
   "source": [
    "desp = np.roll(sol,-1)\n",
    "print(sol)\n",
    "print(desp)\n",
    "dist[sol,desp].sum()"
   ]
  },
  {
   "cell_type": "code",
   "execution_count": 245,
   "metadata": {
    "collapsed": true
   },
   "outputs": [],
   "source": [
    "def tsp_np(sol, dist):\n",
    "    desp = np.roll(sol,-1)\n",
    "    return dist[sol,desp].sum()"
   ]
  },
  {
   "cell_type": "code",
   "execution_count": 246,
   "metadata": {
    "collapsed": true
   },
   "outputs": [],
   "source": []
  },
  {
   "cell_type": "code",
   "execution_count": 249,
   "metadata": {},
   "outputs": [
    {
     "name": "stdout",
     "output_type": "stream",
     "text": [
      "The slowest run took 37.76 times longer than the fastest. This could mean that an intermediate result is being cached.\n",
      "100000 loops, best of 3: 3 µs per loop\n"
     ]
    }
   ],
   "source": [
    "desp = np.roll(sol,-1)\n",
    "%timeit dist[sol,desp].sum()"
   ]
  }
 ],
 "metadata": {
  "kernelspec": {
   "display_name": "Python 3",
   "language": "python",
   "name": "python3"
  },
  "language_info": {
   "codemirror_mode": {
    "name": "ipython",
    "version": 3
   },
   "file_extension": ".py",
   "mimetype": "text/x-python",
   "name": "python",
   "nbconvert_exporter": "python",
   "pygments_lexer": "ipython3",
   "version": "3.6.1"
  }
 },
 "nbformat": 4,
 "nbformat_minor": 2
}
